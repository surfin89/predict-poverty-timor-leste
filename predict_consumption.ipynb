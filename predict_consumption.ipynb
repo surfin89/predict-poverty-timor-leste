{
 "cells": [
  {
   "cell_type": "code",
   "execution_count": 1,
   "metadata": {},
   "outputs": [],
   "source": [
    "import os\n",
    "import shutil\n",
    "import numpy as np\n",
    "import pandas as pd\n",
    "from tqdm.notebook import tqdm\n",
    "import pickle\n",
    "\n",
    "import torch\n",
    "import torch.nn as nn\n",
    "import torch.optim as optim\n",
    "import numpy as np\n",
    "import torchvision\n",
    "from torchvision import datasets, models, transforms\n",
    "import matplotlib.pyplot as plt\n",
    "import time\n",
    "import copy"
   ]
  },
  {
   "cell_type": "code",
   "execution_count": 2,
   "metadata": {},
   "outputs": [],
   "source": [
    "BASE_DIR = '..'\n",
    "COUNTRY = 'timor_2016'\n",
    "RANDOM_SEED = 7\n",
    "COUNTRY_DIR = os.path.join(BASE_DIR, 'countries', COUNTRY)\n",
    "PROCESSED_DIR = os.path.join(COUNTRY_DIR, 'processed')\n",
    "MODEL_DIR = os.path.join(BASE_DIR, 'models')\n",
    "\n",
    "# these relate to the current country in question\n",
    "IMAGE_DIR = os.path.join(COUNTRY_DIR, 'images')\n",
    "RESULTS_DIR = os.path.join(COUNTRY_DIR, 'results')\n",
    "CNN_SAVE_FEATS_DIR = os.path.join(RESULTS_DIR, 'cnn')"
   ]
  },
  {
   "cell_type": "code",
   "execution_count": 3,
   "metadata": {},
   "outputs": [],
   "source": [
    "os.makedirs(RESULTS_DIR, exist_ok=True)\n",
    "os.makedirs(CNN_SAVE_FEATS_DIR, exist_ok=True)"
   ]
  },
  {
   "cell_type": "markdown",
   "metadata": {},
   "source": [
    "# Feature extract with CNN\n",
    "If you have run this step before, you can skip it and run the commented out code in the next section to quick-start."
   ]
  },
  {
   "cell_type": "code",
   "execution_count": 4,
   "metadata": {},
   "outputs": [],
   "source": [
    "df_images = pd.read_csv(os.path.join(PROCESSED_DIR, 'image_download_locs.csv'))"
   ]
  },
  {
   "cell_type": "code",
   "execution_count": 5,
   "metadata": {},
   "outputs": [
    {
     "data": {
      "text/html": [
       "<div>\n",
       "<style scoped>\n",
       "    .dataframe tbody tr th:only-of-type {\n",
       "        vertical-align: middle;\n",
       "    }\n",
       "\n",
       "    .dataframe tbody tr th {\n",
       "        vertical-align: top;\n",
       "    }\n",
       "\n",
       "    .dataframe thead th {\n",
       "        text-align: right;\n",
       "    }\n",
       "</style>\n",
       "<table border=\"1\" class=\"dataframe\">\n",
       "  <thead>\n",
       "    <tr style=\"text-align: right;\">\n",
       "      <th></th>\n",
       "      <th>im_lat</th>\n",
       "      <th>im_lon</th>\n",
       "      <th>cluster_lat</th>\n",
       "      <th>cluster_lon</th>\n",
       "      <th>wealth</th>\n",
       "      <th>education</th>\n",
       "      <th>electricity</th>\n",
       "      <th>water</th>\n",
       "      <th>cluster</th>\n",
       "      <th>urban</th>\n",
       "      <th>nightlights</th>\n",
       "      <th>nightlights_bin</th>\n",
       "      <th>image_name</th>\n",
       "    </tr>\n",
       "  </thead>\n",
       "  <tbody>\n",
       "    <tr>\n",
       "      <th>0</th>\n",
       "      <td>-8.700000</td>\n",
       "      <td>125.524999</td>\n",
       "      <td>-8.712016</td>\n",
       "      <td>125.56738</td>\n",
       "      <td>32166.6</td>\n",
       "      <td>6.28</td>\n",
       "      <td>0.72</td>\n",
       "      <td>0.0</td>\n",
       "      <td>1</td>\n",
       "      <td>R</td>\n",
       "      <td>0.928571</td>\n",
       "      <td>1</td>\n",
       "      <td>-8.699999665200009_125.52499877790001.png</td>\n",
       "    </tr>\n",
       "    <tr>\n",
       "      <th>1</th>\n",
       "      <td>-8.716666</td>\n",
       "      <td>125.524999</td>\n",
       "      <td>-8.712016</td>\n",
       "      <td>125.56738</td>\n",
       "      <td>32166.6</td>\n",
       "      <td>6.28</td>\n",
       "      <td>0.72</td>\n",
       "      <td>0.0</td>\n",
       "      <td>1</td>\n",
       "      <td>R</td>\n",
       "      <td>0.928571</td>\n",
       "      <td>1</td>\n",
       "      <td>-8.716666331800013_125.52499877790001.png</td>\n",
       "    </tr>\n",
       "    <tr>\n",
       "      <th>2</th>\n",
       "      <td>-8.675000</td>\n",
       "      <td>125.533332</td>\n",
       "      <td>-8.712016</td>\n",
       "      <td>125.56738</td>\n",
       "      <td>32166.6</td>\n",
       "      <td>6.28</td>\n",
       "      <td>0.72</td>\n",
       "      <td>0.0</td>\n",
       "      <td>1</td>\n",
       "      <td>R</td>\n",
       "      <td>0.928571</td>\n",
       "      <td>1</td>\n",
       "      <td>-8.674999665300009_125.53333211120001.png</td>\n",
       "    </tr>\n",
       "    <tr>\n",
       "      <th>3</th>\n",
       "      <td>-8.700000</td>\n",
       "      <td>125.533332</td>\n",
       "      <td>-8.712016</td>\n",
       "      <td>125.56738</td>\n",
       "      <td>32166.6</td>\n",
       "      <td>6.28</td>\n",
       "      <td>0.72</td>\n",
       "      <td>0.0</td>\n",
       "      <td>1</td>\n",
       "      <td>R</td>\n",
       "      <td>0.928571</td>\n",
       "      <td>1</td>\n",
       "      <td>-8.699999665200009_125.53333211120001.png</td>\n",
       "    </tr>\n",
       "    <tr>\n",
       "      <th>4</th>\n",
       "      <td>-8.716666</td>\n",
       "      <td>125.533332</td>\n",
       "      <td>-8.712016</td>\n",
       "      <td>125.56738</td>\n",
       "      <td>32166.6</td>\n",
       "      <td>6.28</td>\n",
       "      <td>0.72</td>\n",
       "      <td>0.0</td>\n",
       "      <td>1</td>\n",
       "      <td>R</td>\n",
       "      <td>0.928571</td>\n",
       "      <td>1</td>\n",
       "      <td>-8.716666331800013_125.53333211120001.png</td>\n",
       "    </tr>\n",
       "  </tbody>\n",
       "</table>\n",
       "</div>"
      ],
      "text/plain": [
       "     im_lat      im_lon  cluster_lat  cluster_lon   wealth  education  \\\n",
       "0 -8.700000  125.524999    -8.712016    125.56738  32166.6       6.28   \n",
       "1 -8.716666  125.524999    -8.712016    125.56738  32166.6       6.28   \n",
       "2 -8.675000  125.533332    -8.712016    125.56738  32166.6       6.28   \n",
       "3 -8.700000  125.533332    -8.712016    125.56738  32166.6       6.28   \n",
       "4 -8.716666  125.533332    -8.712016    125.56738  32166.6       6.28   \n",
       "\n",
       "   electricity  water  cluster urban  nightlights  nightlights_bin  \\\n",
       "0         0.72    0.0        1     R     0.928571                1   \n",
       "1         0.72    0.0        1     R     0.928571                1   \n",
       "2         0.72    0.0        1     R     0.928571                1   \n",
       "3         0.72    0.0        1     R     0.928571                1   \n",
       "4         0.72    0.0        1     R     0.928571                1   \n",
       "\n",
       "                                  image_name  \n",
       "0  -8.699999665200009_125.52499877790001.png  \n",
       "1  -8.716666331800013_125.52499877790001.png  \n",
       "2  -8.674999665300009_125.53333211120001.png  \n",
       "3  -8.699999665200009_125.53333211120001.png  \n",
       "4  -8.716666331800013_125.53333211120001.png  "
      ]
     },
     "execution_count": 5,
     "metadata": {},
     "output_type": "execute_result"
    }
   ],
   "source": [
    "df_images.head()"
   ]
  },
  {
   "cell_type": "code",
   "execution_count": 7,
   "metadata": {},
   "outputs": [
    {
     "name": "stdout",
     "output_type": "stream",
     "text": [
      "Using cpu as backend\n"
     ]
    }
   ],
   "source": [
    "device = torch.device('cuda' if torch.cuda.is_available() else 'cpu')\n",
    "print(f'Using {device} as backend')\n",
    "model = torch.load(os.path.join(MODEL_DIR, 'trained_model.pt'), map_location=device)"
   ]
  },
  {
   "cell_type": "code",
   "execution_count": 8,
   "metadata": {},
   "outputs": [
    {
     "data": {
      "text/plain": [
       "Sequential(\n",
       "  (0): Linear(in_features=25088, out_features=4096, bias=True)\n",
       "  (1): ReLU(inplace=True)\n",
       "  (2): Dropout(p=0.5, inplace=False)\n",
       "  (3): Linear(in_features=4096, out_features=4096, bias=True)\n",
       "  (4): ReLU(inplace=True)\n",
       "  (5): Dropout(p=0.5, inplace=False)\n",
       "  (6): Linear(in_features=4096, out_features=3, bias=True)\n",
       ")"
      ]
     },
     "execution_count": 8,
     "metadata": {},
     "output_type": "execute_result"
    }
   ],
   "source": [
    "model.classifier"
   ]
  },
  {
   "cell_type": "code",
   "execution_count": 9,
   "metadata": {},
   "outputs": [],
   "source": [
    "# rip off the final layers\n",
    "model.classifier = model.classifier[:4]"
   ]
  },
  {
   "cell_type": "code",
   "execution_count": 10,
   "metadata": {},
   "outputs": [
    {
     "data": {
      "text/plain": [
       "Sequential(\n",
       "  (0): Linear(in_features=25088, out_features=4096, bias=True)\n",
       "  (1): ReLU(inplace=True)\n",
       "  (2): Dropout(p=0.5, inplace=False)\n",
       "  (3): Linear(in_features=4096, out_features=4096, bias=True)\n",
       ")"
      ]
     },
     "execution_count": 10,
     "metadata": {},
     "output_type": "execute_result"
    }
   ],
   "source": [
    "model.classifier"
   ]
  },
  {
   "cell_type": "code",
   "execution_count": 11,
   "metadata": {},
   "outputs": [],
   "source": [
    "transformer = transforms.Compose([\n",
    "            transforms.ToTensor(),\n",
    "            transforms.Normalize([0.485, 0.456, 0.406], [0.229, 0.224, 0.225])\n",
    "        ])\n",
    "\n",
    "# custom dataset for fast image loading and processing\n",
    "class ForwardPassDataset(torch.utils.data.Dataset):\n",
    "    def __init__(self, image_dir, transformer):\n",
    "        self.image_dir = image_dir\n",
    "        self.image_list = os.listdir(self.image_dir)\n",
    "        self.transformer = transformer\n",
    "\n",
    "    def __len__(self):\n",
    "        return len(self.image_list)\n",
    "\n",
    "    def __getitem__(self, index):\n",
    "        image_name = self.image_list[index]\n",
    "\n",
    "        # Load image\n",
    "        X = self.filename_to_im_tensor(self.image_dir + '/' + image_name)\n",
    "        \n",
    "        # dataloaders need to return a label, but for the forward pass we don't really care\n",
    "        return X, -1\n",
    "    \n",
    "    def filename_to_im_tensor(self, file):\n",
    "        im = plt.imread(file)[:,:,:3]\n",
    "        im = self.transformer(im)\n",
    "        return im\n",
    "\n",
    "dataset = ForwardPassDataset(IMAGE_DIR, transformer)\n",
    "dataloader = torch.utils.data.DataLoader(dataset, batch_size=8, shuffle=False, num_workers=4)\n",
    "image_order = dataset.image_list\n"
   ]
  },
  {
   "cell_type": "code",
   "execution_count": 12,
   "metadata": {},
   "outputs": [
    {
     "data": {
      "text/plain": [
       "(9386, 1)"
      ]
     },
     "execution_count": 12,
     "metadata": {},
     "output_type": "execute_result"
    }
   ],
   "source": [
    "unique_ims = pd.DataFrame.from_dict({'image_name': image_order})\n",
    "unique_ims.shape"
   ]
  },
  {
   "cell_type": "code",
   "execution_count": 13,
   "metadata": {},
   "outputs": [],
   "source": [
    "feats = np.zeros((unique_ims.shape[0],4096))"
   ]
  },
  {
   "cell_type": "markdown",
   "metadata": {},
   "source": [
    "## Forward Pass"
   ]
  },
  {
   "cell_type": "code",
   "execution_count": 14,
   "metadata": {},
   "outputs": [
    {
     "data": {
      "application/vnd.jupyter.widget-view+json": {
       "model_id": "6ea46de7d9e54708acc592a12e66573e",
       "version_major": 2,
       "version_minor": 0
      },
      "text/plain": [
       "HBox(children=(FloatProgress(value=0.0, max=1174.0), HTML(value='')))"
      ]
     },
     "metadata": {},
     "output_type": "display_data"
    },
    {
     "name": "stdout",
     "output_type": "stream",
     "text": [
      "\n"
     ]
    }
   ],
   "source": [
    "model.eval()\n",
    "\n",
    "i = 0\n",
    "# Iterate over data.\n",
    "for inputs, _ in tqdm(dataloader):\n",
    "    inputs = inputs.to(device)\n",
    "    outputs = model(inputs)\n",
    "    feats[i:i+len(inputs),:] = outputs.cpu().detach().numpy()\n",
    "    i += len(inputs)"
   ]
  },
  {
   "cell_type": "code",
   "execution_count": 15,
   "metadata": {},
   "outputs": [],
   "source": [
    "np.save(os.path.join(CNN_SAVE_FEATS_DIR, 'forward_feats.npy'), feats)"
   ]
  },
  {
   "cell_type": "code",
   "execution_count": 16,
   "metadata": {},
   "outputs": [],
   "source": [
    "unique_ims = unique_ims[['image_name']]\n",
    "# this will be joined with the main df to show what index you should be looking at in feats\n",
    "unique_ims['feat_index'] = np.arange(len(unique_ims))"
   ]
  },
  {
   "cell_type": "code",
   "execution_count": 17,
   "metadata": {},
   "outputs": [
    {
     "data": {
      "text/html": [
       "<div>\n",
       "<style scoped>\n",
       "    .dataframe tbody tr th:only-of-type {\n",
       "        vertical-align: middle;\n",
       "    }\n",
       "\n",
       "    .dataframe tbody tr th {\n",
       "        vertical-align: top;\n",
       "    }\n",
       "\n",
       "    .dataframe thead th {\n",
       "        text-align: right;\n",
       "    }\n",
       "</style>\n",
       "<table border=\"1\" class=\"dataframe\">\n",
       "  <thead>\n",
       "    <tr style=\"text-align: right;\">\n",
       "      <th></th>\n",
       "      <th>image_name</th>\n",
       "      <th>feat_index</th>\n",
       "    </tr>\n",
       "  </thead>\n",
       "  <tbody>\n",
       "    <tr>\n",
       "      <th>0</th>\n",
       "      <td>-8.908332997700015_125.40833211170002.png</td>\n",
       "      <td>0</td>\n",
       "    </tr>\n",
       "    <tr>\n",
       "      <th>1</th>\n",
       "      <td>-9.308332996100006_124.23333211639999.png</td>\n",
       "      <td>1</td>\n",
       "    </tr>\n",
       "    <tr>\n",
       "      <th>2</th>\n",
       "      <td>-8.466666332800017_126.50833210730002.png</td>\n",
       "      <td>2</td>\n",
       "    </tr>\n",
       "    <tr>\n",
       "      <th>3</th>\n",
       "      <td>-8.399999666400008_126.39166544110005.png</td>\n",
       "      <td>3</td>\n",
       "    </tr>\n",
       "    <tr>\n",
       "      <th>4</th>\n",
       "      <td>-8.616666332200012_126.12499877549999.png</td>\n",
       "      <td>4</td>\n",
       "    </tr>\n",
       "  </tbody>\n",
       "</table>\n",
       "</div>"
      ],
      "text/plain": [
       "                                  image_name  feat_index\n",
       "0  -8.908332997700015_125.40833211170002.png           0\n",
       "1  -9.308332996100006_124.23333211639999.png           1\n",
       "2  -8.466666332800017_126.50833210730002.png           2\n",
       "3  -8.399999666400008_126.39166544110005.png           3\n",
       "4  -8.616666332200012_126.12499877549999.png           4"
      ]
     },
     "execution_count": 17,
     "metadata": {},
     "output_type": "execute_result"
    }
   ],
   "source": [
    "unique_ims.head()"
   ]
  },
  {
   "cell_type": "code",
   "execution_count": 18,
   "metadata": {},
   "outputs": [],
   "source": [
    "df_consumption = pd.merge(left=df_images, right=unique_ims, on='image_name')"
   ]
  },
  {
   "cell_type": "code",
   "execution_count": 19,
   "metadata": {},
   "outputs": [
    {
     "data": {
      "text/html": [
       "<div>\n",
       "<style scoped>\n",
       "    .dataframe tbody tr th:only-of-type {\n",
       "        vertical-align: middle;\n",
       "    }\n",
       "\n",
       "    .dataframe tbody tr th {\n",
       "        vertical-align: top;\n",
       "    }\n",
       "\n",
       "    .dataframe thead th {\n",
       "        text-align: right;\n",
       "    }\n",
       "</style>\n",
       "<table border=\"1\" class=\"dataframe\">\n",
       "  <thead>\n",
       "    <tr style=\"text-align: right;\">\n",
       "      <th></th>\n",
       "      <th>im_lat</th>\n",
       "      <th>im_lon</th>\n",
       "      <th>cluster_lat</th>\n",
       "      <th>cluster_lon</th>\n",
       "      <th>wealth</th>\n",
       "      <th>education</th>\n",
       "      <th>electricity</th>\n",
       "      <th>water</th>\n",
       "      <th>cluster</th>\n",
       "      <th>urban</th>\n",
       "      <th>nightlights</th>\n",
       "      <th>nightlights_bin</th>\n",
       "      <th>image_name</th>\n",
       "      <th>feat_index</th>\n",
       "    </tr>\n",
       "  </thead>\n",
       "  <tbody>\n",
       "    <tr>\n",
       "      <th>0</th>\n",
       "      <td>-8.700000</td>\n",
       "      <td>125.524999</td>\n",
       "      <td>-8.712016</td>\n",
       "      <td>125.56738</td>\n",
       "      <td>32166.600000</td>\n",
       "      <td>6.280000</td>\n",
       "      <td>0.720000</td>\n",
       "      <td>0.0</td>\n",
       "      <td>1</td>\n",
       "      <td>R</td>\n",
       "      <td>0.928571</td>\n",
       "      <td>1</td>\n",
       "      <td>-8.699999665200009_125.52499877790001.png</td>\n",
       "      <td>9233</td>\n",
       "    </tr>\n",
       "    <tr>\n",
       "      <th>1</th>\n",
       "      <td>-8.700000</td>\n",
       "      <td>125.524999</td>\n",
       "      <td>-8.732529</td>\n",
       "      <td>125.56375</td>\n",
       "      <td>100213.520000</td>\n",
       "      <td>9.800000</td>\n",
       "      <td>1.000000</td>\n",
       "      <td>0.0</td>\n",
       "      <td>10</td>\n",
       "      <td>U</td>\n",
       "      <td>1.021429</td>\n",
       "      <td>1</td>\n",
       "      <td>-8.699999665200009_125.52499877790001.png</td>\n",
       "      <td>9233</td>\n",
       "    </tr>\n",
       "    <tr>\n",
       "      <th>2</th>\n",
       "      <td>-8.700000</td>\n",
       "      <td>125.524999</td>\n",
       "      <td>-8.736563</td>\n",
       "      <td>125.56216</td>\n",
       "      <td>48646.730769</td>\n",
       "      <td>8.000000</td>\n",
       "      <td>0.884615</td>\n",
       "      <td>0.0</td>\n",
       "      <td>14</td>\n",
       "      <td>U</td>\n",
       "      <td>0.928571</td>\n",
       "      <td>1</td>\n",
       "      <td>-8.699999665200009_125.52499877790001.png</td>\n",
       "      <td>9233</td>\n",
       "    </tr>\n",
       "    <tr>\n",
       "      <th>3</th>\n",
       "      <td>-8.716666</td>\n",
       "      <td>125.524999</td>\n",
       "      <td>-8.712016</td>\n",
       "      <td>125.56738</td>\n",
       "      <td>32166.600000</td>\n",
       "      <td>6.280000</td>\n",
       "      <td>0.720000</td>\n",
       "      <td>0.0</td>\n",
       "      <td>1</td>\n",
       "      <td>R</td>\n",
       "      <td>0.928571</td>\n",
       "      <td>1</td>\n",
       "      <td>-8.716666331800013_125.52499877790001.png</td>\n",
       "      <td>2249</td>\n",
       "    </tr>\n",
       "    <tr>\n",
       "      <th>4</th>\n",
       "      <td>-8.716666</td>\n",
       "      <td>125.524999</td>\n",
       "      <td>-8.688047</td>\n",
       "      <td>125.49081</td>\n",
       "      <td>-6728.956522</td>\n",
       "      <td>3.608696</td>\n",
       "      <td>1.000000</td>\n",
       "      <td>0.0</td>\n",
       "      <td>253</td>\n",
       "      <td>R</td>\n",
       "      <td>1.012987</td>\n",
       "      <td>1</td>\n",
       "      <td>-8.716666331800013_125.52499877790001.png</td>\n",
       "      <td>2249</td>\n",
       "    </tr>\n",
       "  </tbody>\n",
       "</table>\n",
       "</div>"
      ],
      "text/plain": [
       "     im_lat      im_lon  cluster_lat  cluster_lon         wealth  education  \\\n",
       "0 -8.700000  125.524999    -8.712016    125.56738   32166.600000   6.280000   \n",
       "1 -8.700000  125.524999    -8.732529    125.56375  100213.520000   9.800000   \n",
       "2 -8.700000  125.524999    -8.736563    125.56216   48646.730769   8.000000   \n",
       "3 -8.716666  125.524999    -8.712016    125.56738   32166.600000   6.280000   \n",
       "4 -8.716666  125.524999    -8.688047    125.49081   -6728.956522   3.608696   \n",
       "\n",
       "   electricity  water  cluster urban  nightlights  nightlights_bin  \\\n",
       "0     0.720000    0.0        1     R     0.928571                1   \n",
       "1     1.000000    0.0       10     U     1.021429                1   \n",
       "2     0.884615    0.0       14     U     0.928571                1   \n",
       "3     0.720000    0.0        1     R     0.928571                1   \n",
       "4     1.000000    0.0      253     R     1.012987                1   \n",
       "\n",
       "                                  image_name  feat_index  \n",
       "0  -8.699999665200009_125.52499877790001.png        9233  \n",
       "1  -8.699999665200009_125.52499877790001.png        9233  \n",
       "2  -8.699999665200009_125.52499877790001.png        9233  \n",
       "3  -8.716666331800013_125.52499877790001.png        2249  \n",
       "4  -8.716666331800013_125.52499877790001.png        2249  "
      ]
     },
     "execution_count": 19,
     "metadata": {},
     "output_type": "execute_result"
    }
   ],
   "source": [
    "df_consumption.head()"
   ]
  },
  {
   "cell_type": "code",
   "execution_count": 20,
   "metadata": {},
   "outputs": [
    {
     "data": {
      "text/plain": [
       "(21089, 14)"
      ]
     },
     "execution_count": 20,
     "metadata": {},
     "output_type": "execute_result"
    }
   ],
   "source": [
    "df_consumption.shape"
   ]
  },
  {
   "cell_type": "code",
   "execution_count": 21,
   "metadata": {},
   "outputs": [
    {
     "data": {
      "text/plain": [
       "455"
      ]
     },
     "execution_count": 21,
     "metadata": {},
     "output_type": "execute_result"
    }
   ],
   "source": [
    "group = df_consumption.groupby(['cluster_lat', 'cluster_lon'])\n",
    "num_clusts = len(group)\n",
    "num_clusts"
   ]
  },
  {
   "cell_type": "markdown",
   "metadata": {},
   "source": [
    "## Aggregate Features"
   ]
  },
  {
   "cell_type": "code",
   "execution_count": 22,
   "metadata": {},
   "outputs": [],
   "source": [
    "x = np.zeros((num_clusts, 4096))\n",
    "y = []\n",
    "clusters = []"
   ]
  },
  {
   "cell_type": "code",
   "execution_count": 24,
   "metadata": {},
   "outputs": [],
   "source": [
    "# this goes through each cluster group and finds all images that are in the cluster\n",
    "# it aggregates the features for those images across the cluster\n",
    "for i, g in enumerate(group):\n",
    "    lat, long = g[0]\n",
    "    im_sub = df_consumption[(df_consumption['cluster_lat'] == lat) & (df_consumption['cluster_lon'] == long)].reset_index(drop=True)\n",
    "    agg_feats = np.zeros((len(im_sub), 4096))\n",
    "    for j, d in im_sub.iterrows():\n",
    "        agg_feats[j,:] = feats[d.feat_index]\n",
    "    agg_feats = agg_feats.mean(axis=0) # averages the features across all images in the cluster\n",
    "    \n",
    "    x[i,:] = agg_feats\n",
    "    y.append(g[1]['wealth'].values[0])\n",
    "    clusters.append([lat, long])"
   ]
  },
  {
   "cell_type": "code",
   "execution_count": 25,
   "metadata": {},
   "outputs": [
    {
     "data": {
      "text/plain": [
       "array([[ 0.21660481,  0.20364752,  0.14742741, ...,  0.04710928,\n",
       "        -0.10303198, -0.76530433],\n",
       "       [-0.1214712 ,  0.5710007 ,  0.00890313, ..., -0.33517402,\n",
       "        -0.48378003, -0.64290076],\n",
       "       [ 0.01033191,  0.38971266,  0.0991101 , ...,  0.21628696,\n",
       "        -0.20634307, -0.37628567],\n",
       "       ...,\n",
       "       [-0.6968416 ,  0.15227848,  0.61032361, ..., -0.35855663,\n",
       "         0.01967951, -0.82546669],\n",
       "       [-0.49744448,  0.53905755,  0.43074328, ...,  0.04423065,\n",
       "        -0.47996485, -0.73159051],\n",
       "       [-0.63202101,  0.14285885,  0.31559432, ...,  0.08948368,\n",
       "        -0.17335971, -1.02269292]])"
      ]
     },
     "execution_count": 25,
     "metadata": {},
     "output_type": "execute_result"
    }
   ],
   "source": [
    "feats"
   ]
  },
  {
   "cell_type": "code",
   "execution_count": 26,
   "metadata": {},
   "outputs": [],
   "source": [
    "np.save(os.path.join(CNN_SAVE_FEATS_DIR, 'cluster_feats.npy'), x)\n",
    "pickle.dump(clusters, open(os.path.join(CNN_SAVE_FEATS_DIR, 'cluster_order.pkl'), 'wb'))"
   ]
  },
  {
   "cell_type": "markdown",
   "metadata": {},
   "source": [
    "# Predict Consumption"
   ]
  },
  {
   "cell_type": "code",
   "execution_count": 25,
   "metadata": {},
   "outputs": [],
   "source": [
    "''' uncomment this to load saved features and start from here '''\n",
    "\n",
    "# def merge_on_lat_lon(df1, df2, keys=['cluster_lat', 'cluster_lon']):\n",
    "#     \"\"\"\n",
    "#         Allows two dataframes to be merged on lat/lon\n",
    "#         Necessary because pandas has trouble merging on floats\n",
    "#     \"\"\"\n",
    "#     df1 = df1.copy()\n",
    "#     df2 = df2.copy()\n",
    "    \n",
    "#     # must use ints for merging, as floats induce errors\n",
    "#     df1['merge_lat'] = (10000 * df1[keys[0]]).astype(int)\n",
    "#     df1['merge_lon'] = (10000 * df1[keys[1]]).astype(int)\n",
    "    \n",
    "#     df2['merge_lat'] = (10000 * df2[keys[0]]).astype(int)\n",
    "#     df2['merge_lon'] = (10000 * df2[keys[1]]).astype(int)\n",
    "    \n",
    "#     df2.drop(keys, axis=1, inplace=True)\n",
    "#     merged = pd.merge(df1, df2, on=['merge_lat', 'merge_lon'])\n",
    "#     merged.drop(['merge_lat', 'merge_lon'], axis=1, inplace=True)\n",
    "#     return merged\n",
    "\n",
    "# x = np.load(os.path.join(CNN_SAVE_FEATS_DIR, 'cluster_feats.npy'))\n",
    "# clusters = pickle.load(open(os.path.join(CNN_SAVE_FEATS_DIR, 'cluster_order.pkl'), 'rb'))\n",
    "# clusters_saved = pd.DataFrame.from_records(clusters, columns=['lat', 'lon'])\n",
    "# clusters_saved['feat_index'] = np.arange(len(clusters_saved))\n",
    "# df_clusters = pd.read_csv(os.path.join(PROCESSED_DIR, 'clusters.csv'))\n",
    "# assert len(df_clusters) == len(clusters_saved)\n",
    "\n",
    "# df = merge_on_lat_lon(df_clusters, clusters_saved, keys=['lat', 'lon'])\n",
    "# assert len(df) == len(df_clusters) == len(clusters_saved)\n",
    "# df.sort_values('feat_index', ascending=True, inplace=True)\n",
    "# y = df['cons_pc'].tolist()\n"
   ]
  },
  {
   "cell_type": "code",
   "execution_count": 27,
   "metadata": {},
   "outputs": [],
   "source": [
    "# This is a bunch of code from the Jean et al Github that is modified to work with Python3 and our data\n",
    "\n",
    "import numpy as np\n",
    "import pandas as pd\n",
    "import random\n",
    "from scipy import stats\n",
    "from sklearn.decomposition import PCA\n",
    "from sklearn.preprocessing import StandardScaler\n",
    "from sklearn.model_selection import KFold\n",
    "import sklearn.linear_model as linear_model\n",
    "import matplotlib.pyplot as plt\n",
    "from matplotlib.collections import EllipseCollection\n",
    "import seaborn as sns\n",
    "\n",
    "\n",
    "def predict_consumption(\n",
    "    X, y, k=5, k_inner=5, points=10,\n",
    "        alpha_low=1, alpha_high=5, margin=0.25):\n",
    "    \"\"\"\n",
    "    Plots predicted consumption\n",
    "    \"\"\"\n",
    "    np.random.seed(RANDOM_SEED)\n",
    "    y_hat, r2 = run_cv(X, y, k, k_inner, points, alpha_low, alpha_high)\n",
    "    return X, y, y_hat, r2\n",
    "\n",
    "\n",
    "def run_cv(X, y, k, k_inner, points, alpha_low, alpha_high, randomize=False):\n",
    "    \"\"\"\n",
    "    Runs nested cross-validation to make predictions and compute r-squared.\n",
    "    \"\"\"\n",
    "    alphas = np.logspace(alpha_low, alpha_high, points)\n",
    "    r2s = np.zeros((k,))\n",
    "    y_hat = np.zeros_like(y)\n",
    "    kf = KFold(n_splits=k, shuffle=True)\n",
    "    fold = 0\n",
    "    for train_idx, test_idx in kf.split(X):\n",
    "        r2s, y_hat, fold = evaluate_fold(\n",
    "            X, y, train_idx, test_idx, k_inner, alphas, r2s, y_hat, fold,\n",
    "            randomize)\n",
    "    return y_hat, r2s.mean()\n",
    "\n",
    "\n",
    "def scale_features(X_train, X_test):\n",
    "    \"\"\"\n",
    "    Scales features using StandardScaler.\n",
    "    \"\"\"\n",
    "    X_scaler = StandardScaler(with_mean=True, with_std=False)\n",
    "    X_train = X_scaler.fit_transform(X_train)\n",
    "    X_test = X_scaler.transform(X_test)\n",
    "    return X_train, X_test\n",
    "\n",
    "\n",
    "def train_and_predict_ridge(alpha, X_train, y_train, X_test):\n",
    "    \"\"\"\n",
    "    Trains ridge model and predicts test set.\n",
    "    \"\"\"\n",
    "    ridge = linear_model.Ridge(alpha)\n",
    "    ridge.fit(X_train, y_train)\n",
    "    y_hat = ridge.predict(X_test)\n",
    "    return y_hat\n",
    "\n",
    "\n",
    "def predict_inner_test_fold(X, y, y_hat, train_idx, test_idx, alpha):\n",
    "    \"\"\"\n",
    "    Predicts inner test fold.\n",
    "    \"\"\"\n",
    "    X_train, X_test = X[train_idx], X[test_idx]\n",
    "    y_train, y_test = y[train_idx], y[test_idx]\n",
    "    X_train, X_test = scale_features(X_train, X_test)\n",
    "    y_hat[test_idx] = train_and_predict_ridge(alpha, X_train, y_train, X_test)\n",
    "    return y_hat\n",
    "\n",
    "\n",
    "def find_best_alpha(X, y, k_inner, alphas):\n",
    "    \"\"\"\n",
    "    Finds the best alpha in an inner CV loop.\n",
    "    \"\"\"\n",
    "    kf = KFold(n_splits=k_inner, shuffle=True)\n",
    "    best_alpha = 0\n",
    "    best_r2 = 0\n",
    "    for idx, alpha in enumerate(alphas):\n",
    "        y_hat = np.zeros_like(y)\n",
    "        for train_idx, test_idx in kf.split(X):\n",
    "            y_hat = predict_inner_test_fold(\n",
    "                X, y, y_hat, train_idx, test_idx, alpha)\n",
    "        r2 = stats.pearsonr(y, y_hat)[0] ** 2\n",
    "        if r2 > best_r2:\n",
    "            best_alpha = alpha\n",
    "            best_r2 = r2\n",
    "    print('best alpha', best_alpha)\n",
    "    return best_alpha\n",
    "\n",
    "\n",
    "def evaluate_fold(\n",
    "    X, y, train_idx, test_idx, k_inner, alphas, r2s, y_hat, fold,\n",
    "        randomize):\n",
    "    \"\"\"\n",
    "    Evaluates one fold of outer CV.\n",
    "    \"\"\"\n",
    "    X_train, X_test = X[train_idx], X[test_idx]\n",
    "    y_train, y_test = y[train_idx], y[test_idx]\n",
    "    if randomize:\n",
    "        random.shuffle(y_train)\n",
    "    best_alpha = find_best_alpha(X_train, y_train, k_inner, alphas)\n",
    "    X_train, X_test = scale_features(X_train, X_test)\n",
    "    y_test_hat = train_and_predict_ridge(best_alpha, X_train, y_train, X_test)\n",
    "    r2 = stats.pearsonr(y_test, y_test_hat)[0] ** 2\n",
    "    r2s[fold] = r2\n",
    "    y_hat[test_idx] = y_test_hat\n",
    "    return r2s, y_hat, fold + 1\n"
   ]
  },
  {
   "cell_type": "code",
   "execution_count": 37,
   "metadata": {},
   "outputs": [],
   "source": [
    "#add y_log also when we calculate log consumption\n",
    "y = np.array(y)\n",
    "# y_log = np.log(y)"
   ]
  },
  {
   "cell_type": "code",
   "execution_count": 36,
   "metadata": {},
   "outputs": [],
   "source": [
    "# _, _, y_hat_log, r2 = predict_consumption(x, y_log)\n",
    "# r2"
   ]
  },
  {
   "cell_type": "code",
   "execution_count": 38,
   "metadata": {},
   "outputs": [
    {
     "name": "stdout",
     "output_type": "stream",
     "text": [
      "best alpha 77.4263682681127\n",
      "best alpha 27.825594022071243\n",
      "best alpha 27.825594022071243\n",
      "best alpha 27.825594022071243\n",
      "best alpha 27.825594022071243\n"
     ]
    },
    {
     "data": {
      "text/plain": [
       "0.6157428359912553"
      ]
     },
     "execution_count": 38,
     "metadata": {},
     "output_type": "execute_result"
    }
   ],
   "source": [
    "_, _, y_hat, r2 = predict_consumption(x, y)\n",
    "r2"
   ]
  },
  {
   "cell_type": "markdown",
   "metadata": {},
   "source": [
    "Quick and dirty way of testing:"
   ]
  },
  {
   "cell_type": "code",
   "execution_count": 39,
   "metadata": {},
   "outputs": [],
   "source": [
    "n_train = int(0.7*(len(x))) # let's use 70% of the data for training\n",
    "inds = np.arange(len(x))\n",
    "train_ind = np.random.choice(inds, n_train, replace=False)\n",
    "valid_ind = np.delete(inds, train_ind)\n",
    "\n",
    "train_x = x[train_ind]\n",
    "valid_x = x[valid_ind]\n",
    "\n",
    "train_y = y[train_ind]\n",
    "valid_y = y[valid_ind]\n",
    "\n",
    "ss = StandardScaler() # standardize features\n",
    "train_x = ss.fit_transform(train_x)\n",
    "valid_x = ss.transform(valid_x)"
   ]
  },
  {
   "cell_type": "code",
   "execution_count": 40,
   "metadata": {},
   "outputs": [
    {
     "data": {
      "text/plain": [
       "0.8539713748020956"
      ]
     },
     "execution_count": 40,
     "metadata": {},
     "output_type": "execute_result"
    }
   ],
   "source": [
    "ridge = linear_model.Ridge(alpha=70) # the best alphas printed suggest using a high alphas\n",
    "ridge.fit(train_x, train_y)\n",
    "ridge.score(train_x, train_y)"
   ]
  },
  {
   "cell_type": "code",
   "execution_count": 41,
   "metadata": {},
   "outputs": [
    {
     "data": {
      "text/plain": [
       "0.5961885142070287"
      ]
     },
     "execution_count": 41,
     "metadata": {},
     "output_type": "execute_result"
    }
   ],
   "source": [
    "ridge.score(valid_x, valid_y)"
   ]
  },
  {
   "cell_type": "markdown",
   "metadata": {},
   "source": [
    "Plots:"
   ]
  },
  {
   "cell_type": "code",
   "execution_count": 42,
   "metadata": {},
   "outputs": [],
   "source": [
    "preds = y_hat\n",
    "valid_y = y"
   ]
  },
  {
   "cell_type": "code",
   "execution_count": 45,
   "metadata": {},
   "outputs": [
    {
     "data": {
      "text/plain": [
       "Text(0.5, 1.0, 'Timor Leste Results')"
      ]
     },
     "execution_count": 45,
     "metadata": {},
     "output_type": "execute_result"
    },
    {
     "data": {
      "image/png": "[encoded data removed]",
      "text/plain": [
       "<Figure size 576x360 with 1 Axes>"
      ]
     },
     "metadata": {
      "needs_background": "light"
     },
     "output_type": "display_data"
    }
   ],
   "source": [
    "plt.figure(figsize=(8,5))\n",
    "plt.scatter(valid_y, preds, alpha=0.6)\n",
    "plt.plot(np.unique(valid_y), np.poly1d(np.polyfit(valid_y, preds, 1))(np.unique(valid_y)), color='g')\n",
    "plt.text(2.4, 1.5, 'r^2=0.62', size=12)\n",
    "plt.xlabel('Actual Welfare by DHS')\n",
    "plt.ylabel('Predicted Welfare by ML')\n",
    "plt.title('Timor Leste Results')"
   ]
  },
  {
   "cell_type": "code",
   "execution_count": null,
   "metadata": {},
   "outputs": [],
   "source": []
  },
  {
   "cell_type": "code",
   "execution_count": null,
   "metadata": {},
   "outputs": [],
   "source": []
  },
  {
   "cell_type": "code",
   "execution_count": null,
   "metadata": {},
   "outputs": [],
   "source": []
  },
  {
   "cell_type": "code",
   "execution_count": null,
   "metadata": {},
   "outputs": [],
   "source": []
  },
  {
   "cell_type": "code",
   "execution_count": null,
   "metadata": {},
   "outputs": [],
   "source": []
  }
 ],
 "metadata": {
  "kernelspec": {
   "display_name": "Python3-predict-poverty",
   "language": "python",
   "name": "predict-poverty"
  },
  "language_info": {
   "codemirror_mode": {
    "name": "ipython",
    "version": 3
   },
   "file_extension": ".py",
   "mimetype": "text/x-python",
   "name": "python",
   "nbconvert_exporter": "python",
   "pygments_lexer": "ipython3",
   "version": "3.7.5"
  }
 },
 "nbformat": 4,
 "nbformat_minor": 2
}
